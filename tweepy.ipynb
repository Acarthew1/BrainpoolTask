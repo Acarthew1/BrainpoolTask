{
 "cells": [
  {
   "cell_type": "markdown",
   "id": "73695c10",
   "metadata": {},
   "source": [
    "# Brainpool Twitter Sentiment Analysis Task"
   ]
  },
  {
   "cell_type": "markdown",
   "id": "d67a467d",
   "metadata": {},
   "source": [
    "I will be using the Tweepy python package in order to pull relavent tweets which I can use sentiment analysis on. I will be using Auth 2 authentication through twitter as I only need read access and does not need user context.\n",
    "\n",
    "Below I am importing sys in order to run python commands. This allows me to use pip to install the needed packages."
   ]
  },
  {
   "cell_type": "code",
   "execution_count": 1,
   "id": "8e065e4c",
   "metadata": {
    "scrolled": false
   },
   "outputs": [
    {
     "name": "stdout",
     "output_type": "stream",
     "text": [
      "Requirement already satisfied: tweepy in c:\\users\\alexc\\appdata\\roaming\\python\\python310\\site-packages (4.10.0)\n",
      "Requirement already satisfied: wordcloud in c:\\users\\alexc\\appdata\\roaming\\python\\python310\\site-packages (1.8.2.2)\n",
      "Requirement already satisfied: nltk in c:\\users\\alexc\\appdata\\roaming\\python\\python310\\site-packages (3.7)\n",
      "Requirement already satisfied: pandas in c:\\users\\alexc\\appdata\\roaming\\python\\python310\\site-packages (1.4.3)\n",
      "Requirement already satisfied: matplotlib in c:\\users\\alexc\\appdata\\roaming\\python\\python310\\site-packages (3.5.2)\n",
      "Requirement already satisfied: requests-oauthlib<2,>=1.2.0 in c:\\users\\alexc\\appdata\\roaming\\python\\python310\\site-packages (from tweepy) (1.3.1)\n",
      "Requirement already satisfied: requests<3,>=2.27.0 in c:\\users\\alexc\\appdata\\roaming\\python\\python310\\site-packages (from tweepy) (2.28.1)\n",
      "Requirement already satisfied: oauthlib<4,>=3.2.0 in c:\\python310\\lib\\site-packages (from tweepy) (3.2.0)\n",
      "Requirement already satisfied: pillow in c:\\users\\alexc\\appdata\\roaming\\python\\python310\\site-packages (from wordcloud) (9.2.0)\n",
      "Requirement already satisfied: numpy>=1.6.1 in c:\\users\\alexc\\appdata\\roaming\\python\\python310\\site-packages (from wordcloud) (1.23.1)\n",
      "Requirement already satisfied: tqdm in c:\\users\\alexc\\appdata\\roaming\\python\\python310\\site-packages (from nltk) (4.64.0)\n",
      "Requirement already satisfied: joblib in c:\\users\\alexc\\appdata\\roaming\\python\\python310\\site-packages (from nltk) (1.1.0)\n",
      "Requirement already satisfied: click in c:\\users\\alexc\\appdata\\roaming\\python\\python310\\site-packages (from nltk) (8.1.3)\n",
      "Requirement already satisfied: regex>=2021.8.3 in c:\\users\\alexc\\appdata\\roaming\\python\\python310\\site-packages (from nltk) (2022.7.25)\n",
      "Requirement already satisfied: pytz>=2020.1 in c:\\users\\alexc\\appdata\\roaming\\python\\python310\\site-packages (from pandas) (2022.1)\n",
      "Requirement already satisfied: python-dateutil>=2.8.1 in c:\\users\\alexc\\appdata\\roaming\\python\\python310\\site-packages (from pandas) (2.8.2)\n",
      "Requirement already satisfied: packaging>=20.0 in c:\\users\\alexc\\appdata\\roaming\\python\\python310\\site-packages (from matplotlib) (21.3)\n",
      "Requirement already satisfied: cycler>=0.10 in c:\\users\\alexc\\appdata\\roaming\\python\\python310\\site-packages (from matplotlib) (0.11.0)\n",
      "Requirement already satisfied: pyparsing>=2.2.1 in c:\\users\\alexc\\appdata\\roaming\\python\\python310\\site-packages (from matplotlib) (3.0.9)\n",
      "Requirement already satisfied: fonttools>=4.22.0 in c:\\users\\alexc\\appdata\\roaming\\python\\python310\\site-packages (from matplotlib) (4.34.4)\n",
      "Requirement already satisfied: kiwisolver>=1.0.1 in c:\\users\\alexc\\appdata\\roaming\\python\\python310\\site-packages (from matplotlib) (1.4.4)\n",
      "Requirement already satisfied: six>=1.5 in c:\\users\\alexc\\appdata\\roaming\\python\\python310\\site-packages (from python-dateutil>=2.8.1->pandas) (1.16.0)\n",
      "Requirement already satisfied: certifi>=2017.4.17 in c:\\users\\alexc\\appdata\\roaming\\python\\python310\\site-packages (from requests<3,>=2.27.0->tweepy) (2022.6.15)\n",
      "Requirement already satisfied: idna<4,>=2.5 in c:\\python310\\lib\\site-packages (from requests<3,>=2.27.0->tweepy) (3.3)\n",
      "Requirement already satisfied: charset-normalizer<3,>=2 in c:\\python310\\lib\\site-packages (from requests<3,>=2.27.0->tweepy) (2.1.0)\n",
      "Requirement already satisfied: urllib3<1.27,>=1.21.1 in c:\\python310\\lib\\site-packages (from requests<3,>=2.27.0->tweepy) (1.26.11)\n",
      "Requirement already satisfied: colorama in c:\\users\\alexc\\appdata\\roaming\\python\\python310\\site-packages (from click->nltk) (0.4.5)\n"
     ]
    },
    {
     "name": "stderr",
     "output_type": "stream",
     "text": [
      "WARNING: You are using pip version 22.0.4; however, version 22.2.2 is available.\n",
      "You should consider upgrading via the 'C:\\Python310\\python.exe -m pip install --upgrade pip' command.\n"
     ]
    }
   ],
   "source": [
    "import sys\n",
    "\n",
    "!{sys.executable} -m pip install tweepy wordcloud nltk pandas matplotlib --user"
   ]
  },
  {
   "cell_type": "markdown",
   "id": "c1808fcd",
   "metadata": {},
   "source": [
    "Below is a list of imports that will be used to perform this task. I will explain each one and how I use it at the time they are run"
   ]
  },
  {
   "cell_type": "code",
   "execution_count": 2,
   "id": "fa324d2d",
   "metadata": {},
   "outputs": [
    {
     "name": "stderr",
     "output_type": "stream",
     "text": [
      "[nltk_data] Downloading package punkt to\n",
      "[nltk_data]     C:\\Users\\alexc\\AppData\\Roaming\\nltk_data...\n",
      "[nltk_data]   Package punkt is already up-to-date!\n",
      "[nltk_data] Downloading package stopwords to\n",
      "[nltk_data]     C:\\Users\\alexc\\AppData\\Roaming\\nltk_data...\n",
      "[nltk_data]   Package stopwords is already up-to-date!\n"
     ]
    }
   ],
   "source": [
    "import re \n",
    "import tweepy \n",
    "import nltk\n",
    "import pandas as pd\n",
    "import matplotlib.pyplot as plt\n",
    "import numpy as np\n",
    "nltk.download('punkt')   \n",
    "nltk.download('stopwords')\n",
    "from nltk.corpus import stopwords\n",
    "from nltk.tokenize import word_tokenize\n",
    "from nltk.stem import PorterStemmer\n",
    "from textblob import TextBlob"
   ]
  },
  {
   "cell_type": "markdown",
   "id": "c52b4d9c",
   "metadata": {},
   "source": [
    "The function cleanText() is used to remove things that will throw off the sentiment analysis such as:\n",
    "Links\n",
    "punctuation\n",
    "stop words - this is a list of words in the wordcloud stopwords package imported above."
   ]
  },
  {
   "cell_type": "code",
   "execution_count": 3,
   "id": "61bc2bf6",
   "metadata": {},
   "outputs": [],
   "source": [
    "def cleanText(text):\n",
    "    text = text.lower()\n",
    "    # Remove all mentions\n",
    "    text = re.sub('http://\\S+|https://\\S+', '', text)\n",
    "    # Removes punctuation\n",
    "    text = re.sub(r'[^\\w\\s]', '', text)\n",
    "    #Remove Stop words\n",
    "    text_tokens = word_tokenize(text)\n",
    "    text = [word for word in text_tokens if not word in stopwords.words()]\n",
    "    \n",
    "    text = ' '.join(text)\n",
    "    return text"
   ]
  },
  {
   "cell_type": "markdown",
   "id": "2ef86d19",
   "metadata": {},
   "source": [
    "The stem() function stems the tweet. Stemming is a natural language processing technique that lowers inflection in words to their root forms. For instance, the stem of these three words, connections, connected, connects, is “connect”.\n",
    "\n",
    "The English language has several variants of a single term. The presence of these variances in a text corpus results in data redundancy when developing NLP or machine learning models. Such models may be ineffective."
   ]
  },
  {
   "cell_type": "code",
   "execution_count": 4,
   "id": "6c86fd3b",
   "metadata": {},
   "outputs": [],
   "source": [
    "def stem(text):\n",
    "    porter = PorterStemmer()\n",
    "    token_words = word_tokenize(text)\n",
    "    stem_sentence = []\n",
    "    for word in token_words:\n",
    "        stem_sentence.append(porter.stem(word))\n",
    "    return \" \".join(stem_sentence)"
   ]
  },
  {
   "cell_type": "markdown",
   "id": "d1d2cea8",
   "metadata": {},
   "source": [
    "The Below function sentiment() analyses the sentiment of a textBlob object and returns 'positive', ' negative' or 'neutral' depending on the score given."
   ]
  },
  {
   "cell_type": "code",
   "execution_count": 5,
   "id": "8e8f6a4b",
   "metadata": {},
   "outputs": [],
   "source": [
    "def sentiment(cleaned_text):\n",
    "    if cleaned_text.sentiment.polarity > 0:\n",
    "        return 'positive'\n",
    "    elif cleaned_text.sentiment.polarity < 0:\n",
    "        return 'negative'\n",
    "    else:\n",
    "        return 'neutral'"
   ]
  },
  {
   "cell_type": "markdown",
   "id": "f2f96e92",
   "metadata": {},
   "source": [
    "The function fetch_tweets() accepts a query(ie. hashtag or search term) as well as a count indicating the number of tweets to return.\n",
    "\n",
    "It uses the tweepy package and my twitter bearer token to authenticate with twitter. I then loop through the results, sanitise the text and perform sentiment analysis on each one.\n",
    "\n",
    "Finally I add this to a list of tweets."
   ]
  },
  {
   "cell_type": "code",
   "execution_count": 6,
   "id": "095ebd09",
   "metadata": {},
   "outputs": [],
   "source": [
    "def fetch_tweets(query, count = 50):\n",
    "    \n",
    "\n",
    "    client = tweepy.Client(bearer_token='AAAAAAAAAAAAAAAAAAAAAMpxfgEAAAAAK1o3Y62ITbCY%2BO%2F%2FABV1QoEz7Q4%3D20rQIpmkEhMl5oNLMGt07TdlEyFLwRH1XjR1w5ELjY7J9wzVLq')\n",
    "\n",
    "    tweets = []\n",
    "\n",
    "    try:\n",
    "        fetched_data = client.search_recent_tweets(query=query, tweet_fields=['context_annotations', 'created_at'], max_results=count)\n",
    "\n",
    "        for tweet in fetched_data.data:\n",
    "            txt = tweet.text\n",
    "            clean_txt = cleanText(txt)\n",
    "            stem_txt = TextBlob(stem(clean_txt))\n",
    "            sent = sentiment(stem_txt)\n",
    "            tweets.append((txt, clean_txt, sent))\n",
    "        return tweets\n",
    "    \n",
    "    except tweepy.TweepError as e:\n",
    "        print(\"Error : \" + str(e))\n",
    "        exit(1)\n",
    "        \n",
    "    \n"
   ]
  },
  {
   "cell_type": "markdown",
   "id": "74a2524c",
   "metadata": {},
   "source": [
    "This is the main funtionality of the code calling the methods created above to perform the twitter query as well as the sentiment analysis. I then Add this data to a pandas datafram so that I can analyse the results.\n",
    "\n",
    "Changing the query and rerunning the application will provide different results."
   ]
  },
  {
   "cell_type": "code",
   "execution_count": 7,
   "id": "647fc282",
   "metadata": {},
   "outputs": [],
   "source": [
    "tweets = fetch_tweets(query = '#LoveIsland')\n",
    "\n",
    "df = pd.DataFrame(tweets, columns= ['tweets', 'clean_tweets','sentiment'])\n",
    "\n",
    "# Dropping the duplicate values just in case there are some tweets that are copied and then stores the data in a csv file\n",
    "df = df.drop_duplicates(subset='clean_tweets')\n",
    "df.to_csv('data.csv', index= False)"
   ]
  },
  {
   "cell_type": "markdown",
   "id": "2848c7f7",
   "metadata": {},
   "source": [
    "I then get the results for the percentage of Pos,neu and neg tweets and print them to the screen as well as display them in a pie chart below."
   ]
  },
  {
   "cell_type": "code",
   "execution_count": 8,
   "id": "e5120dfd",
   "metadata": {},
   "outputs": [
    {
     "name": "stdout",
     "output_type": "stream",
     "text": [
      "Positive tweets 18.0 %\n",
      "Neutral tweets 66.0 %\n",
      "Negative tweets 16.0 %\n"
     ]
    }
   ],
   "source": [
    "ptweets = df[df['sentiment'] == 'positive']\n",
    "p_perc = 100 * len(ptweets)/len(tweets)\n",
    "ntweets = df[df['sentiment'] == 'negative']\n",
    "n_perc = 100 * len(ntweets)/len(tweets)\n",
    "print(f'Positive tweets {p_perc} %')\n",
    "print(f'Neutral tweets {100 - p_perc - n_perc} %')\n",
    "print(f'Negative tweets {n_perc} %')"
   ]
  },
  {
   "cell_type": "code",
   "execution_count": 9,
   "id": "5c2d157e",
   "metadata": {},
   "outputs": [
    {
     "data": {
      "image/png": "[encoded data removed]",
      "text/plain": [
       "<Figure size 936x936 with 1 Axes>"
      ]
     },
     "metadata": {},
     "output_type": "display_data"
    }
   ],
   "source": [
    "chart = np.array([int(p_perc), 100 - p_perc - n_perc, int(n_perc)])\n",
    "chartLabels = [\"positive\", \"neutral\", \"negative\"]\n",
    "plt.figure(figsize=(13, 13))\n",
    "plt.pie(chart, labels = chartLabels)\n",
    "\n",
    "plt.show()"
   ]
  },
  {
   "cell_type": "code",
   "execution_count": null,
   "id": "4fa7f72c",
   "metadata": {},
   "outputs": [],
   "source": []
  }
 ],
 "metadata": {
  "kernelspec": {
   "display_name": "Python 3 (ipykernel)",
   "language": "python",
   "name": "python3"
  },
  "language_info": {
   "codemirror_mode": {
    "name": "ipython",
    "version": 3
   },
   "file_extension": ".py",
   "mimetype": "text/x-python",
   "name": "python",
   "nbconvert_exporter": "python",
   "pygments_lexer": "ipython3",
   "version": "3.10.4"
  }
 },
 "nbformat": 4,
 "nbformat_minor": 5
}
